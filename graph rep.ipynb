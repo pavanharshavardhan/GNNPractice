{
 "cells": [
  {
   "cell_type": "code",
   "execution_count": 2,
   "metadata": {},
   "outputs": [
    {
     "data": {
      "text/plain": [
       "(tensor([0, 0, 0, 0, 0]), tensor([1, 2, 3, 4, 5]))"
      ]
     },
     "execution_count": 2,
     "metadata": {},
     "output_type": "execute_result"
    }
   ],
   "source": [
    "import os\n",
    "\n",
    "os.environ[\"DGLBACKEND\"] = \"pytorch\"\n",
    "import dgl\n",
    "import numpy as np\n",
    "import torch\n",
    "\n",
    "g = dgl.graph(([0, 0, 0, 0, 0], [1, 2, 3, 4, 5]), num_nodes=6)\n",
    "# Equivalently, PyTorch LongTensors also work.\n",
    "g = dgl.graph(\n",
    "    (torch.LongTensor([0, 0, 0, 0, 0]), torch.LongTensor([1, 2, 3, 4, 5])),\n",
    "    num_nodes=6,\n",
    ")\n",
    "\n",
    "# You can omit the number of nodes argument if you can tell the number of nodes from the edge list alone.\n",
    "g = dgl.graph(([0, 0, 0, 0, 0], [1, 2, 3, 4, 5]))\n",
    "g.edges()"
   ]
  },
  {
   "cell_type": "code",
   "execution_count": 4,
   "metadata": {},
   "outputs": [
    {
     "name": "stdout",
     "output_type": "stream",
     "text": [
      "tensor([[-0.2515, -0.6148, -0.8321, -0.4604],\n",
      "        [ 0.9227,  1.2012,  1.1728,  1.2815],\n",
      "        [ 0.6853,  0.4380, -0.3704,  0.0036],\n",
      "        [-0.0367, -0.2028,  1.6394, -0.8001],\n",
      "        [-1.2440,  0.1641, -1.3086,  0.7616]])\n",
      "tensor([[-0.1655, -0.7565,  0.4053],\n",
      "        [-0.5343, -1.3291,  0.0520],\n",
      "        [ 0.0156, -1.0735, -0.6773],\n",
      "        [-0.7313, -0.3863,  1.0811],\n",
      "        [-1.1074, -1.4736, -1.3848],\n",
      "        [-1.8301, -1.3398, -2.0094]])\n",
      "tensor([[[ 5.8819e-01,  1.5830e+00,  4.1085e-01, -2.8881e-01],\n",
      "         [ 6.8007e-01,  9.2380e-01,  1.3031e+00, -3.0698e-01],\n",
      "         [ 1.4873e-01,  7.4959e-01,  5.3189e-01, -7.6768e-01],\n",
      "         [-6.3639e-01,  1.3513e+00,  3.1591e-01,  5.9026e-01],\n",
      "         [-8.8365e-01,  1.8307e-01,  1.2949e-01,  5.9148e-01]],\n",
      "\n",
      "        [[ 7.8589e-02, -3.4953e-02,  1.0418e+00, -9.9710e-01],\n",
      "         [-2.1596e-01, -1.4361e+00, -1.4294e-01,  4.2905e-01],\n",
      "         [-3.0345e-01, -3.8175e-01,  3.4978e-01, -8.5302e-01],\n",
      "         [ 1.1448e+00,  9.1974e-01,  2.5024e-01, -6.9408e-01],\n",
      "         [-2.9285e-01,  1.4272e+00,  2.3031e-01, -5.4405e-01]],\n",
      "\n",
      "        [[ 5.2866e-01,  2.4327e-01, -1.7582e-01, -1.1349e+00],\n",
      "         [-3.2906e-01, -2.7622e+00,  2.3888e-01,  6.6096e-02],\n",
      "         [-2.2133e+00, -1.3654e+00, -3.1352e-01, -1.1288e+00],\n",
      "         [ 2.0255e-01, -1.2884e+00, -1.0616e+00,  2.3577e-01],\n",
      "         [-1.8469e-01, -1.1487e-01, -1.4429e+00, -1.5607e+00]],\n",
      "\n",
      "        [[-5.8871e-01, -7.4035e-01,  1.9446e+00,  2.7797e-01],\n",
      "         [-1.1931e+00,  2.8479e+00, -6.5134e-01, -1.6283e-01],\n",
      "         [-1.0437e-01,  1.7100e+00, -1.9149e-03, -8.7669e-01],\n",
      "         [ 4.4609e-01, -6.4066e-02, -5.6765e-02, -4.3076e-01],\n",
      "         [-1.5309e+00, -1.4582e+00, -8.8511e-01, -6.9729e-01]],\n",
      "\n",
      "        [[ 2.3716e-01, -5.8125e-01,  9.7370e-01, -7.0960e-01],\n",
      "         [-1.0782e+00, -4.1285e-01,  6.3431e-01, -6.1545e-01],\n",
      "         [-9.8316e-01, -1.5259e+00,  1.6161e+00,  7.1641e-01],\n",
      "         [ 5.5493e-01, -1.1550e-02,  1.9912e+00, -5.0542e-02],\n",
      "         [ 1.0626e+00,  8.3368e-02, -1.3566e+00,  1.9538e+00]],\n",
      "\n",
      "        [[ 5.0015e-01, -5.1802e-01, -2.2118e+00,  1.1763e+00],\n",
      "         [-1.0039e+00,  1.7883e+00,  4.7056e-01, -1.0610e+00],\n",
      "         [ 1.4486e-02,  1.2219e-01, -3.9254e-01, -1.0154e+00],\n",
      "         [ 7.4276e-01, -1.1580e+00, -4.9624e-01, -7.7807e-02],\n",
      "         [ 1.0150e+00, -1.4273e+00, -9.8231e-01,  1.4775e+00]]])\n"
     ]
    }
   ],
   "source": [
    "# Assign a 3-dimensional node feature vector for each node.\n",
    "g.ndata[\"x\"] = torch.randn(6, 3)\n",
    "# Assign a 4-dimensional edge feature vector for each edge.\n",
    "g.edata[\"a\"] = torch.randn(5, 4)\n",
    "# Assign a 5x4 node feature matrix for each node.  Node and edge features in DGL can be multi-dimensional.\n",
    "g.ndata[\"y\"] = torch.randn(6, 5, 4)\n",
    "\n",
    "print(g.edata[\"a\"])\n",
    "print(g.ndata[\"x\"])\n",
    "print(g.ndata[\"y\"])\n"
   ]
  },
  {
   "cell_type": "code",
   "execution_count": 5,
   "metadata": {},
   "outputs": [
    {
     "name": "stdout",
     "output_type": "stream",
     "text": [
      "6\n",
      "5\n",
      "5\n",
      "0\n"
     ]
    }
   ],
   "source": [
    "print(g.num_nodes())\n",
    "print(g.num_edges())\n",
    "# Out degrees of the center node\n",
    "print(g.out_degrees(0))\n",
    "# In degrees of the center node - note that the graph is directed so the in degree should be 0.\n",
    "print(g.in_degrees(0))"
   ]
  },
  {
   "cell_type": "code",
   "execution_count": 7,
   "metadata": {},
   "outputs": [
    {
     "data": {
      "text/plain": [
       "(Graph(num_nodes=3, num_edges=2,\n",
       "       ndata_schemes={'x': Scheme(shape=(3,), dtype=torch.float32), 'y': Scheme(shape=(5, 4), dtype=torch.float32), '_ID': Scheme(shape=(), dtype=torch.int64)}\n",
       "       edata_schemes={'a': Scheme(shape=(4,), dtype=torch.float32), '_ID': Scheme(shape=(), dtype=torch.int64)}),\n",
       " Graph(num_nodes=4, num_edges=3,\n",
       "       ndata_schemes={'x': Scheme(shape=(3,), dtype=torch.float32), 'y': Scheme(shape=(5, 4), dtype=torch.float32), '_ID': Scheme(shape=(), dtype=torch.int64)}\n",
       "       edata_schemes={'a': Scheme(shape=(4,), dtype=torch.float32), '_ID': Scheme(shape=(), dtype=torch.int64)}))"
      ]
     },
     "execution_count": 7,
     "metadata": {},
     "output_type": "execute_result"
    }
   ],
   "source": [
    "# Induce a subgraph from node 0, node 1 and node 3 from the original graph.\n",
    "sg1 = g.subgraph([0, 1, 3])\n",
    "# Induce a subgraph from edge 0, edge 1 and edge 3 from the original graph.\n",
    "sg2 = g.edge_subgraph([0, 1, 3])\n",
    "sg1,sg2"
   ]
  },
  {
   "cell_type": "code",
   "execution_count": 8,
   "metadata": {},
   "outputs": [
    {
     "name": "stdout",
     "output_type": "stream",
     "text": [
      "tensor([0, 1, 3])\n",
      "tensor([0, 2])\n",
      "tensor([0, 1, 2, 4])\n",
      "tensor([0, 1, 3])\n"
     ]
    }
   ],
   "source": [
    "# The original IDs of each node in sg1\n",
    "print(sg1.ndata[dgl.NID])\n",
    "# The original IDs of each edge in sg1\n",
    "print(sg1.edata[dgl.EID])\n",
    "# The original IDs of each node in sg2\n",
    "print(sg2.ndata[dgl.NID])\n",
    "# The original IDs of each edge in sg2\n",
    "print(sg2.edata[dgl.EID])"
   ]
  },
  {
   "cell_type": "code",
   "execution_count": 9,
   "metadata": {},
   "outputs": [
    {
     "name": "stdout",
     "output_type": "stream",
     "text": [
      "tensor([[-0.1655, -0.7565,  0.4053],\n",
      "        [-0.5343, -1.3291,  0.0520],\n",
      "        [-0.7313, -0.3863,  1.0811]])\n",
      "tensor([[-0.2515, -0.6148, -0.8321, -0.4604],\n",
      "        [ 0.6853,  0.4380, -0.3704,  0.0036]])\n",
      "tensor([[-0.1655, -0.7565,  0.4053],\n",
      "        [-0.5343, -1.3291,  0.0520],\n",
      "        [ 0.0156, -1.0735, -0.6773],\n",
      "        [-1.1074, -1.4736, -1.3848]])\n",
      "tensor([[-0.2515, -0.6148, -0.8321, -0.4604],\n",
      "        [ 0.9227,  1.2012,  1.1728,  1.2815],\n",
      "        [-0.0367, -0.2028,  1.6394, -0.8001]])\n"
     ]
    }
   ],
   "source": [
    "# The original node feature of each node in sg1\n",
    "print(sg1.ndata[\"x\"])\n",
    "# The original edge feature of each node in sg1\n",
    "print(sg1.edata[\"a\"])\n",
    "# The original node feature of each node in sg2\n",
    "print(sg2.ndata[\"x\"])\n",
    "# The original edge feature of each node in sg2\n",
    "print(sg2.edata[\"a\"])"
   ]
  },
  {
   "cell_type": "code",
   "execution_count": 10,
   "metadata": {},
   "outputs": [
    {
     "name": "stdout",
     "output_type": "stream",
     "text": [
      "(tensor([0, 0, 0, 0, 0, 1, 2, 3, 4, 5]), tensor([1, 2, 3, 4, 5, 0, 0, 0, 0, 0]))\n"
     ]
    }
   ],
   "source": [
    "newg = dgl.add_reverse_edges(g)\n",
    "print(newg.edges())"
   ]
  },
  {
   "cell_type": "code",
   "execution_count": 11,
   "metadata": {},
   "outputs": [
    {
     "name": "stdout",
     "output_type": "stream",
     "text": [
      "Graph(num_nodes=6, num_edges=5,\n",
      "      ndata_schemes={'y': Scheme(shape=(5, 4), dtype=torch.float32), 'x': Scheme(shape=(3,), dtype=torch.float32)}\n",
      "      edata_schemes={'a': Scheme(shape=(4,), dtype=torch.float32)})\n",
      "Graph(num_nodes=6, num_edges=5,\n",
      "      ndata_schemes={'y': Scheme(shape=(5, 4), dtype=torch.float32), 'x': Scheme(shape=(3,), dtype=torch.float32)}\n",
      "      edata_schemes={'a': Scheme(shape=(4,), dtype=torch.float32)})\n",
      "Graph(num_nodes=3, num_edges=2,\n",
      "      ndata_schemes={'_ID': Scheme(shape=(), dtype=torch.int64), 'y': Scheme(shape=(5, 4), dtype=torch.float32), 'x': Scheme(shape=(3,), dtype=torch.float32)}\n",
      "      edata_schemes={'_ID': Scheme(shape=(), dtype=torch.int64), 'a': Scheme(shape=(4,), dtype=torch.float32)})\n",
      "Graph(num_nodes=4, num_edges=3,\n",
      "      ndata_schemes={'_ID': Scheme(shape=(), dtype=torch.int64), 'y': Scheme(shape=(5, 4), dtype=torch.float32), 'x': Scheme(shape=(3,), dtype=torch.float32)}\n",
      "      edata_schemes={'_ID': Scheme(shape=(), dtype=torch.int64), 'a': Scheme(shape=(4,), dtype=torch.float32)})\n"
     ]
    }
   ],
   "source": [
    "# Save graphs\n",
    "dgl.save_graphs(\"graph.dgl\", g)\n",
    "dgl.save_graphs(\"graphs.dgl\", [g, sg1, sg2])\n",
    "\n",
    "# Load graphs\n",
    "(g,), _ = dgl.load_graphs(\"graph.dgl\")\n",
    "print(g)\n",
    "(g, sg1, sg2), _ = dgl.load_graphs(\"graphs.dgl\")\n",
    "print(g)\n",
    "print(sg1)\n",
    "print(sg2)\n"
   ]
  }
 ],
 "metadata": {
  "kernelspec": {
   "display_name": "GNNpavan",
   "language": "python",
   "name": "python3"
  },
  "language_info": {
   "codemirror_mode": {
    "name": "ipython",
    "version": 3
   },
   "file_extension": ".py",
   "mimetype": "text/x-python",
   "name": "python",
   "nbconvert_exporter": "python",
   "pygments_lexer": "ipython3",
   "version": "3.11.5"
  },
  "orig_nbformat": 4
 },
 "nbformat": 4,
 "nbformat_minor": 2
}
